{
 "cells": [
  {
   "cell_type": "code",
   "execution_count": 2,
   "id": "fb05f639",
   "metadata": {},
   "outputs": [
    {
     "name": "stderr",
     "output_type": "stream",
     "text": [
      "<frozen importlib._bootstrap>:228: RuntimeWarning: scipy._lib.messagestream.MessageStream size changed, may indicate binary incompatibility. Expected 56 from C header, got 64 from PyObject\n"
     ]
    }
   ],
   "source": [
    "import numpy as np\n",
    "from sklearn.metrics import mean_squared_error"
   ]
  },
  {
   "cell_type": "code",
   "execution_count": 3,
   "id": "f4d31ac6",
   "metadata": {},
   "outputs": [],
   "source": [
    "def calc_rmse(true, pred):\n",
    "    \"\"\" Calculates the Root Mean Square Error\n",
    "\n",
    "    Args:\n",
    "        true: (1d array-like shape) true test values (float)\n",
    "        pred: (1d array-like shape) predicted test values (float)\n",
    "\n",
    "    Returns: (float) rmse\n",
    "    \"\"\"\n",
    "    # Convert to 1-D numpy array if it's not\n",
    "    if type(pred) is not np.array:\n",
    "        pred = np.array(pred)\n",
    "    if type(true) is not np.array:\n",
    "        true = np.array(true)\n",
    "\n",
    "    return np.sqrt(np.mean(np.square(true - pred)))"
   ]
  },
  {
   "cell_type": "code",
   "execution_count": 17,
   "id": "c743e318",
   "metadata": {},
   "outputs": [],
   "source": [
    "a = np.random.rand(10)\n",
    "b = np.random.rand(10)"
   ]
  },
  {
   "cell_type": "code",
   "execution_count": 18,
   "id": "5811a449",
   "metadata": {},
   "outputs": [
    {
     "data": {
      "text/plain": [
       "0.45761319626913655"
      ]
     },
     "execution_count": 18,
     "metadata": {},
     "output_type": "execute_result"
    }
   ],
   "source": [
    "calc_rmse(a,b)"
   ]
  },
  {
   "cell_type": "code",
   "execution_count": 20,
   "id": "6661c7cc",
   "metadata": {},
   "outputs": [
    {
     "data": {
      "text/plain": [
       "0.45761319626913655"
      ]
     },
     "execution_count": 20,
     "metadata": {},
     "output_type": "execute_result"
    }
   ],
   "source": [
    "mean_squared_error(a,b,squared=False)"
   ]
  },
  {
   "cell_type": "code",
   "execution_count": null,
   "id": "55e0d723",
   "metadata": {},
   "outputs": [],
   "source": []
  }
 ],
 "metadata": {
  "kernelspec": {
   "display_name": "Python 3 (ipykernel)",
   "language": "python",
   "name": "python3"
  },
  "language_info": {
   "codemirror_mode": {
    "name": "ipython",
    "version": 3
   },
   "file_extension": ".py",
   "mimetype": "text/x-python",
   "name": "python",
   "nbconvert_exporter": "python",
   "pygments_lexer": "ipython3",
   "version": "3.10.8"
  }
 },
 "nbformat": 4,
 "nbformat_minor": 5
}
